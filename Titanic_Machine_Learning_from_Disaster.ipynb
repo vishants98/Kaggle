{
  "nbformat": 4,
  "nbformat_minor": 0,
  "metadata": {
    "colab": {
      "name": "Titanic: Machine Learning from Disaster.ipynb",
      "provenance": [],
      "collapsed_sections": [],
      "authorship_tag": "ABX9TyMfqC6MLGzQQ0Ov9EBMyXaQ",
      "include_colab_link": true
    },
    "kernelspec": {
      "name": "python3",
      "display_name": "Python 3"
    }
  },
  "cells": [
    {
      "cell_type": "markdown",
      "metadata": {
        "id": "view-in-github",
        "colab_type": "text"
      },
      "source": [
        "<a href=\"https://colab.research.google.com/github/vishants98/Kaggle/blob/master/Titanic_Machine_Learning_from_Disaster.ipynb\" target=\"_parent\"><img src=\"https://colab.research.google.com/assets/colab-badge.svg\" alt=\"Open In Colab\"/></a>"
      ]
    },
    {
      "cell_type": "markdown",
      "metadata": {
        "id": "DU06llzywsMl",
        "colab_type": "text"
      },
      "source": [
        "Importing Libraries"
      ]
    },
    {
      "cell_type": "code",
      "metadata": {
        "id": "yQVjo8jnkm8K",
        "colab_type": "code",
        "colab": {}
      },
      "source": [
        "import numpy as np\n",
        "import matplotlib.pyplot as plt\n",
        "import pandas as pd"
      ],
      "execution_count": 0,
      "outputs": []
    },
    {
      "cell_type": "markdown",
      "metadata": {
        "id": "1iqsgRfQwsnV",
        "colab_type": "text"
      },
      "source": [
        "Importing the data set"
      ]
    },
    {
      "cell_type": "code",
      "metadata": {
        "id": "x6A7150Gk2XB",
        "colab_type": "code",
        "colab": {}
      },
      "source": [
        "train = pd.read_csv('train.csv')\n",
        "test = pd.read_csv('test.csv')\n",
        "\n",
        "survived = list(train.iloc[:,1])\n",
        "\n",
        "train.drop(['Survived'],axis=1,inplace=True)\n",
        "train.drop(['Ticket'],axis=1,inplace=True)\n",
        "train.drop(['Name'],axis=1,inplace=True)\n",
        "train.drop(['Cabin'],axis=1,inplace=True)\n",
        "\n",
        "test.drop(['Ticket'],axis=1,inplace=True)\n",
        "test.drop(['Name'],axis=1,inplace=True)\n",
        "test.drop(['Cabin'],axis=1,inplace=True)\n",
        "\n",
        "\n",
        "train['Survived'] = survived\n",
        "X_train = train.iloc[:, :-1].values\n",
        "y_train = train.iloc[:, -1].values\n",
        "X_test =  test.iloc[:,:].values\n",
        "y_test = test.iloc[:,-2]\n"
      ],
      "execution_count": 0,
      "outputs": []
    },
    {
      "cell_type": "markdown",
      "metadata": {
        "id": "4izdzOPJwsye",
        "colab_type": "text"
      },
      "source": [
        "Taking care of missing values"
      ]
    },
    {
      "cell_type": "code",
      "metadata": {
        "id": "RHXtyo9_uTzZ",
        "colab_type": "code",
        "colab": {}
      },
      "source": [
        "from sklearn.impute import SimpleImputer\n",
        "\n",
        "imputer = SimpleImputer(missing_values=np.nan, strategy='most_frequent')\n",
        "imputer.fit(X_train[:, 7:8])\n",
        "X_train[:, 7:8] = imputer.transform(X_train[:,7:8])\n",
        "\n",
        "imputer1 = SimpleImputer(missing_values=np.nan, strategy='mean')\n",
        "imputer1.fit(X_train[:, 3:4])\n",
        "X_train[:, 3:4] = imputer1.transform(X_train[:,3:4])\n",
        "imputer1.fit(X_train[:, 6:7])\n",
        "X_train[:, 6:7] = imputer1.transform(X_train[:,6:7])\n",
        "\n",
        "imputer2 = SimpleImputer(missing_values=np.nan, strategy='most_frequent')\n",
        "imputer2.fit(X_train[:, 7:8])\n",
        "X_test[:, 7:8] = imputer.transform(X_test[:,7:8])\n",
        "\n",
        "imputer3 = SimpleImputer(missing_values=np.nan, strategy='mean')\n",
        "imputer3.fit(X_test[:, 3:4])\n",
        "X_test[:, 3:4] = imputer3.transform(X_test[:,3:4])\n",
        "imputer3.fit(X_test[:, 6:7])\n",
        "X_test[:, 6:7] = imputer3.transform(X_test[:,6:7])\n",
        "\n"
      ],
      "execution_count": 0,
      "outputs": []
    },
    {
      "cell_type": "markdown",
      "metadata": {
        "id": "_gvICJi8wtDb",
        "colab_type": "text"
      },
      "source": [
        "Encoding the categorical variables"
      ]
    },
    {
      "cell_type": "code",
      "metadata": {
        "id": "LQI0XnKGsJkk",
        "colab_type": "code",
        "colab": {}
      },
      "source": [
        "from sklearn.compose import ColumnTransformer\n",
        "from sklearn.preprocessing import OneHotEncoder\n",
        "ct = ColumnTransformer(transformers=[('encoder', OneHotEncoder(), [7])], remainder='passthrough')\n",
        "X_train = np.array(ct.fit_transform(X_train))\n",
        "X_test = np.array(ct.fit_transform(X_test))\n",
        "\n",
        "ct1 = ColumnTransformer(transformers=[('encoder', OneHotEncoder(), [5])], remainder='passthrough')\n",
        "X_train = np.array(ct1.fit_transform(X_train))\n",
        "\n",
        "X_test = np.array(ct1.fit_transform(X_test))\n"
      ],
      "execution_count": 0,
      "outputs": []
    },
    {
      "cell_type": "markdown",
      "metadata": {
        "id": "q_csbVbUwtLn",
        "colab_type": "text"
      },
      "source": [
        "Feature Scaling"
      ]
    },
    {
      "cell_type": "code",
      "metadata": {
        "id": "_mr2sZ2Nc2EL",
        "colab_type": "code",
        "colab": {}
      },
      "source": [
        "from sklearn.preprocessing import StandardScaler\n",
        "sc = StandardScaler()\n",
        "X_train = sc.fit_transform(X_train)\n",
        "X_test = sc.transform(X_test)"
      ],
      "execution_count": 0,
      "outputs": []
    },
    {
      "cell_type": "markdown",
      "metadata": {
        "id": "OAemfQVTxQWQ",
        "colab_type": "text"
      },
      "source": [
        "Training the model"
      ]
    },
    {
      "cell_type": "code",
      "metadata": {
        "id": "2loffqDek5PX",
        "colab_type": "code",
        "outputId": "2fb5525f-4f7c-42f1-f063-163318bf3ee0",
        "colab": {
          "base_uri": "https://localhost:8080/",
          "height": 88
        }
      },
      "source": [
        "from sklearn.svm import SVC\n",
        "classifier = SVC(kernel = 'rbf', random_state = 0)\n",
        "classifier.fit(X_train, y_train)"
      ],
      "execution_count": 0,
      "outputs": [
        {
          "output_type": "execute_result",
          "data": {
            "text/plain": [
              "SVC(C=1.0, break_ties=False, cache_size=200, class_weight=None, coef0=0.0,\n",
              "    decision_function_shape='ovr', degree=3, gamma='scale', kernel='rbf',\n",
              "    max_iter=-1, probability=False, random_state=0, shrinking=True, tol=0.001,\n",
              "    verbose=False)"
            ]
          },
          "metadata": {
            "tags": []
          },
          "execution_count": 113
        }
      ]
    },
    {
      "cell_type": "markdown",
      "metadata": {
        "id": "lfwLO-X8xXUF",
        "colab_type": "text"
      },
      "source": [
        "Predicting the dependent variable"
      ]
    },
    {
      "cell_type": "code",
      "metadata": {
        "id": "SrGABvvpk5Wh",
        "colab_type": "code",
        "colab": {}
      },
      "source": [
        "y_pred = classifier.predict(X_test)\n",
        "y_pred1 = classifier.predict(X_train)"
      ],
      "execution_count": 0,
      "outputs": []
    },
    {
      "cell_type": "markdown",
      "metadata": {
        "id": "oB8wHW3wyXBb",
        "colab_type": "text"
      },
      "source": [
        "Confusion Matrix"
      ]
    },
    {
      "cell_type": "code",
      "metadata": {
        "id": "1fjFjMzMVgCr",
        "colab_type": "code",
        "outputId": "85997fe9-fd0e-40b1-9f82-e0321a77ae09",
        "colab": {
          "base_uri": "https://localhost:8080/",
          "height": 52
        }
      },
      "source": [
        "from sklearn.metrics import confusion_matrix\n",
        "cm = confusion_matrix(y_train, y_pred1)\n",
        "print(cm)"
      ],
      "execution_count": 0,
      "outputs": [
        {
          "output_type": "stream",
          "text": [
            "[[511  38]\n",
            " [ 99 243]]\n"
          ],
          "name": "stdout"
        }
      ]
    },
    {
      "cell_type": "markdown",
      "metadata": {
        "id": "0yEwBk4HxgHu",
        "colab_type": "text"
      },
      "source": [
        "K-fold Cross Validation"
      ]
    },
    {
      "cell_type": "code",
      "metadata": {
        "id": "fAUMk0iBKqa3",
        "colab_type": "code",
        "outputId": "3408fd06-b541-44dd-b6e3-e258c05639ba",
        "colab": {
          "base_uri": "https://localhost:8080/",
          "height": 52
        }
      },
      "source": [
        "from sklearn.model_selection import cross_val_score\n",
        "accuracies = cross_val_score(estimator = classifier, X = X_train, y = y_train, cv = 10)\n",
        "print(\"Accuracy: {:.2f} %\".format(accuracies.mean()*100))\n",
        "print(\"Standard Deviation: {:.2f} %\".format(accuracies.std()*100))"
      ],
      "execution_count": 0,
      "outputs": [
        {
          "output_type": "stream",
          "text": [
            "Accuracy: 81.82 %\n",
            "Standard Deviation: 3.53 %\n"
          ],
          "name": "stdout"
        }
      ]
    },
    {
      "cell_type": "markdown",
      "metadata": {
        "id": "54OHGtiIx22g",
        "colab_type": "text"
      },
      "source": [
        "Saving the prediction to a csv file"
      ]
    },
    {
      "cell_type": "code",
      "metadata": {
        "id": "_UyVYyjnVnL2",
        "colab_type": "code",
        "colab": {}
      },
      "source": [
        "df = pd.DataFrame(y_pred)\n",
        "df.to_csv('my_submission.csv')"
      ],
      "execution_count": 0,
      "outputs": []
    }
  ]
}